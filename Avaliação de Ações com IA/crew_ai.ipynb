{
 "cells": [
  {
   "cell_type": "markdown",
   "metadata": {},
   "source": [
    "Instalação das LIBS:"
   ]
  },
  {
   "cell_type": "code",
   "execution_count": null,
   "metadata": {},
   "outputs": [],
   "source": [
    "!pip install yfinance == 0.2.41\n",
    "\n",
    "!pip install crewai == 0.28.8\n",
    "!pip install 'crewai[tools]'\n",
    "\n",
    "!pip install langchain == 0.1.20\n",
    "!pip install langchain-openai == 0.1.7\n",
    "!pip install langchain-community == 0.0.38\n",
    "\n",
    "!pip install duckduckgo-search == 5.3.0"
   ]
  },
  {
   "cell_type": "markdown",
   "metadata": {},
   "source": [
    "Importação das LIBS:"
   ]
  },
  {
   "cell_type": "code",
   "execution_count": null,
   "metadata": {},
   "outputs": [],
   "source": [
    "import json\n",
    "import os\n",
    "from datetime import datetime\n",
    "\n",
    "import yfinance as yf\n",
    "\n",
    "from crewai import Agent, Task, Crew, Process\n",
    "\n",
    "from langchain.tools import Tool\n",
    "from langchain.openai import ChatOpenAI\n",
    "from langchain_community.tools import DuckDuckGoSearchResults\n",
    "\n",
    "from IPython.display import Markdown"
   ]
  },
  {
   "cell_type": "markdown",
   "metadata": {},
   "source": [
    "Yahoo Finance Tool:"
   ]
  },
  {
   "cell_type": "code",
   "execution_count": null,
   "metadata": {},
   "outputs": [],
   "source": [
    "def fetch_stock_price(ticket):\n",
    "    stock = yf.download(ticket, start=\"2023-08-20\", end=\"2024-08-20\")\n",
    "    \n",
    "    return stock\n",
    "\n",
    "yahoo_finance_tool = Tools(\n",
    "    name = \"Yahoo Finance Tool\",\n",
    "    description = \"Fetches stock prices for {ticket} from the last year about a specific stock from Yahoo Finance API\",\n",
    "    func = lambda ticket: fetch_stock_price(ticket)\n",
    ")\n",
    "\n"
   ]
  },
  {
   "cell_type": "markdown",
   "metadata": {},
   "source": [
    "OpenAI LLM - GPT:"
   ]
  },
  {
   "cell_type": "code",
   "execution_count": null,
   "metadata": {},
   "outputs": [],
   "source": [
    "os.environ['OPENAI_API_KEY'] = \"key\"\n",
    "llm = ChatOpenAI(model=\"gpt-3.5-turbo\")"
   ]
  },
  {
   "cell_type": "markdown",
   "metadata": {},
   "source": [
    "Analista de Preço Histórico da Ação:"
   ]
  },
  {
   "cell_type": "code",
   "execution_count": null,
   "metadata": {},
   "outputs": [],
   "source": [
    "stockPriceAnalyst = Agent(\n",
    "    role = \"Senior stock price Analyst\",\n",
    "    goal = \"Find the {ticket} stock price and analyses trends\",\n",
    "    backstory = \"You're highly experienced in analyzing the price of an specific stock and make predictions about its future price.\",\n",
    "    verbose = True,\n",
    "    llm = llm,\n",
    "    max_iter = 5,\n",
    "    memory = True,\n",
    "    tools = [yahoo_finance_tool],\n",
    "    allow_delegation = False\n",
    ")"
   ]
  },
  {
   "cell_type": "code",
   "execution_count": null,
   "metadata": {},
   "outputs": [],
   "source": [
    "getStockPrice = Task(\n",
    "    description = \"Analyze the stock {ticket} price history and create a trend analyses of up, down or sideways\",\n",
    "    expected_output = \"Specify the current trend stock price - up, down or sideways. eg. stock = 'APPL, price UP'\",\n",
    "    agent = stockPriceAnalyst\n",
    "\n",
    ")"
   ]
  },
  {
   "cell_type": "markdown",
   "metadata": {},
   "source": [
    "Analista de Notícias da Empresa:"
   ]
  },
  {
   "cell_type": "code",
   "execution_count": null,
   "metadata": {},
   "outputs": [],
   "source": [
    "search_tool = DuckDuckGoSearchResults(backend=\"news\", num_results = 10)"
   ]
  },
  {
   "cell_type": "code",
   "execution_count": null,
   "metadata": {},
   "outputs": [],
   "source": [
    "newsAnalyst = Agent(\n",
    "    role = \"Stock News Analyst\",\n",
    "\n",
    "    goal = \"\"\"Create a short sumary of the market news related to the stock {ticket} company. \n",
    "    Specify the current trend - up, down or sideways with the news context. \n",
    "    For each request stock asset, specify a numbet between 0 and 100, where 0 is extreme fear and 100 is extreme greed.\"\"\",\n",
    "\n",
    "    backstory = \"\"\"You're highly experienced in analyzing the market trends and news and have tracked assest for more then 10 years. \n",
    "    You're also master level analyts in the tradicional markets and have deep understanding of human psychology.\n",
    "    You understand news, theirs tittles and information, but you look at those with a health dose of skepticism.\n",
    "    You consider also the source of the news articles.\"\"\",\n",
    "    \n",
    "    verbose = True,\n",
    "    llm = llm,\n",
    "    max_iter = 10,\n",
    "    memory = True,\n",
    "    tools = [search_tool],\n",
    "    allow_delegation = False\n",
    ")"
   ]
  },
  {
   "cell_type": "code",
   "execution_count": null,
   "metadata": {},
   "outputs": [],
   "source": [
    "get_news = Task(\n",
    "    description = \"\"\"Take the stock and always include BTC to it (if not request). \n",
    "    Use the search tool to search each one individually.\n",
    "    The current date is {datetime.now()}.\n",
    "    Compose the results into a helpfull report\"\"\",\n",
    "\n",
    "    expected_output = \"\"\"A summary of the overall market and one sentence summary for each request asset.\n",
    "    Include a fear/greed score for each asset based on the news. Use format:\n",
    "    <STOCK ASSET>\n",
    "    <SUMMARY BASED ON NEWS>\n",
    "    <TREND PREDICTION>\n",
    "    <FEAR/GREED SCORE>\"\"\",\n",
    "    \n",
    "    agent = newsAnalyst\n",
    ")"
   ]
  },
  {
   "cell_type": "markdown",
   "metadata": {},
   "source": [
    "Avaliação das Ações:"
   ]
  },
  {
   "cell_type": "code",
   "execution_count": null,
   "metadata": {},
   "outputs": [],
   "source": [
    "StockAnalystWriter = Agent(\n",
    "    role = \"Senior Stock Analyst Writer\",\n",
    "\n",
    "    goal = \"\"\"Analyze the trends price and news and write an insighfull compelling and informative \n",
    "        3 paragraph long newsletter based on the stock report and price trend. \"\"\",\n",
    "    \n",
    "    backstory = \"\"\"You're widely accepted as the best stock analyst in the market. \n",
    "        You understand complex concepts and create compelling stories and narratives that resonate with wider audiences.\n",
    "        You understand macro factors and combine multiple theories - eg. cycle theory and fundamental analyses.\n",
    "        You're able to hold multiple opinions when analyzing anything.\"\"\",\n",
    "\n",
    "    verbose = True,\n",
    "    llm = llm,\n",
    "    max_iter = 5,\n",
    "    memory = True,\n",
    "    allow_delegation = True\n",
    ")"
   ]
  },
  {
   "cell_type": "code",
   "execution_count": null,
   "metadata": {},
   "outputs": [],
   "source": [
    "writeAnalyses = Task(\n",
    "    description = \"\"\"Use the stock price trend and the stock news report to create an analyses and \n",
    "        write the newsletter about the {ticket} company that is brief and highlights the most important points.\n",
    "        Focus on the stock price trend, news and fear/greed score. What are the near future considerations?\n",
    "        Include the previous analyses of stock trend and news summary.\"\"\",\n",
    "\n",
    "    expected_output = \"\"\"An eloquent 3 paragraphs newsletter formated as markdown in an easy readable manner. It should contain:\n",
    "        - 3 bullets executive summary\n",
    "        - Introduction - set the overall picture and spike up the interest\n",
    "        - main part provides the meat of the analysis including the news summary and fead/greed scores\n",
    "        - summary - key facts and concrete future trend prediction - up, down or sideways.\"\"\",\n",
    "\n",
    "    agent = StockAnalystWriter,\n",
    "    context = [getStockPrice, get_news]\n",
    "    )"
   ]
  },
  {
   "cell_type": "markdown",
   "metadata": {},
   "source": [
    "Formação do Grupo que contem os Agentes:"
   ]
  },
  {
   "cell_type": "code",
   "execution_count": null,
   "metadata": {},
   "outputs": [],
   "source": [
    "crew = Crew(\n",
    "    agents = [stockPriceAnalyst, newsAnalyst, StockAnalystWriter],\n",
    "    tasks = [getStockPrice, get_news, writeAnalyses],\n",
    "    verbose = 2,\n",
    "    process = Process.hierarchical,\n",
    "    full_output = True,\n",
    "    share_crew = False,\n",
    "    manager_llm = llm,\n",
    "    max_iter = 15\n",
    ")"
   ]
  },
  {
   "cell_type": "code",
   "execution_count": null,
   "metadata": {},
   "outputs": [],
   "source": [
    "results = crew.kickoff(inputs = {'ticket': 'AAPL'})"
   ]
  },
  {
   "cell_type": "code",
   "execution_count": null,
   "metadata": {},
   "outputs": [],
   "source": [
    "results['final_output']"
   ]
  }
 ],
 "metadata": {
  "kernelspec": {
   "display_name": "Python 3",
   "language": "python",
   "name": "python3"
  },
  "language_info": {
   "codemirror_mode": {
    "name": "ipython",
    "version": 3
   },
   "file_extension": ".py",
   "mimetype": "text/x-python",
   "name": "python",
   "nbconvert_exporter": "python",
   "pygments_lexer": "ipython3",
   "version": "3.12.4"
  }
 },
 "nbformat": 4,
 "nbformat_minor": 2
}
